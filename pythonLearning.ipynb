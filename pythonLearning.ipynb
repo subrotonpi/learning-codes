{
 "cells": [
  {
   "cell_type": "code",
   "execution_count": 8,
   "metadata": {},
   "outputs": [
    {
     "name": "stdout",
     "output_type": "stream",
     "text": [
      "1\n",
      "-77\n",
      "1\n",
      "1\n",
      "1\n",
      "[1, -77, 1, 1, 1]\n"
     ]
    }
   ],
   "source": [
    "li=[12,23,24,42,44]\n",
    "for i in range(0,5):\n",
    "    if li[i]%2==1 :\n",
    "        li[i]=li[i]-100\n",
    "    else :\n",
    "        li[i]=1\n",
    "    print (li[i])\n",
    "print (li)"
   ]
  },
  {
   "cell_type": "code",
   "execution_count": 20,
   "metadata": {},
   "outputs": [
    {
     "name": "stdout",
     "output_type": "stream",
     "text": [
      "12\n",
      "12.0\n"
     ]
    }
   ],
   "source": [
    "i=float(input())\n",
    "print(i)"
   ]
  },
  {
   "cell_type": "code",
   "execution_count": 33,
   "metadata": {},
   "outputs": [
    {
     "name": "stdout",
     "output_type": "stream",
     "text": [
      "mad?\n"
     ]
    }
   ],
   "source": [
    "class exon(Exception):\n",
    "    def __init__(self, some):\n",
    "        self.some=some\n",
    "    \n",
    "try:\n",
    "    i=-1\n",
    "    if i==-1:\n",
    "        raise exon(\"mad?\")\n",
    "except exon as e:\n",
    "    print(e.some)"
   ]
  },
  {
   "cell_type": "code",
   "execution_count": 2,
   "metadata": {},
   "outputs": [
    {
     "name": "stdout",
     "output_type": "stream",
     "text": [
      "bangla\n",
      "No!\n",
      "no\n",
      "No!\n",
      "0\n"
     ]
    }
   ],
   "source": [
    "while True:\n",
    "    try:\n",
    "        i=int(input())\n",
    "    except:\n",
    "        print(\"No!\")\n",
    "    else:\n",
    "        break"
   ]
  },
  {
   "cell_type": "code",
   "execution_count": 55,
   "metadata": {},
   "outputs": [
    {
     "data": {
      "text/plain": [
       "2.4094369453869424"
      ]
     },
     "execution_count": 55,
     "metadata": {},
     "output_type": "execute_result"
    }
   ],
   "source": [
    "import numpy as np\n",
    "\n",
    "#a=np.array([12,23,43])\n",
    "#b=np.arange(20).reshape(4,5)\n",
    "#print (b)\n",
    "a = np.random.triangular(1,3,3)\n",
    "a"
   ]
  },
  {
   "cell_type": "code",
   "execution_count": 58,
   "metadata": {},
   "outputs": [
    {
     "data": {
      "image/png": "[encoded data removed]",
      "text/plain": [
       "<matplotlib.figure.Figure at 0x10f4b14e0>"
      ]
     },
     "metadata": {},
     "output_type": "display_data"
    }
   ],
   "source": [
    "import matplotlib.pyplot as plt\n",
    "plt.plot([1,2,3])\n",
    "plt.xlabel('kidding')\n",
    "plt.ylabel('no kidding')\n",
    "plt.show()"
   ]
  },
  {
   "cell_type": "code",
   "execution_count": null,
   "metadata": {
    "collapsed": true
   },
   "outputs": [],
   "source": []
  }
 ],
 "metadata": {
  "kernelspec": {
   "display_name": "Python [conda root]",
   "language": "python",
   "name": "conda-root-py"
  },
  "language_info": {
   "codemirror_mode": {
    "name": "ipython",
    "version": 3
   },
   "file_extension": ".py",
   "mimetype": "text/x-python",
   "name": "python",
   "nbconvert_exporter": "python",
   "pygments_lexer": "ipython3",
   "version": "3.5.5"
  }
 },
 "nbformat": 4,
 "nbformat_minor": 2
}
