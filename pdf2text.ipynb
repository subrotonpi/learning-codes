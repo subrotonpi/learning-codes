{
 "cells": [
  {
   "cell_type": "code",
   "execution_count": 2,
   "metadata": {},
   "outputs": [
    {
     "name": "stdout",
     "output_type": "stream",
     "text": [
      "2\n",
      "Attendance SheetCourse Title:Web EngineeringO-1Section99809202B.Sc. in Computer Science & EngineeringProgram:Semester:Student IDStudent NameCourse Code:Date: .......................Teacher:CSE417SLNo.3.0Credit:null : nullEmail162-15-7811Nowrin Akter1nowrin15-7811@diu.edu.bd163-15-784Fahim Ahmed Turza2fahim15-784@diu.edu.bd163-15-8266Md. Mahamudunnobi Sykot3mahamudunnobi15-8266@diu.edu.bd163-15-8329Muslima Tuz Zahra4muslima15-8329@diu.edu.bd163-15-8420Md. Latiful Kabir5kabir15-8420@diu.edu.bd163-15-8421Md. Mehedi Hasan6mehedi15-8421@diu.edu.bd171-15-9191Md. Tawhidul Islam7tawhidul15-9191@diu.edu.bd171-15-9307Md. Nur Asif- Rahman8nur15-9307@diu.edu.bd172-15-10233Sumaeya Akter9sumaeya15-10233@diu.edu.bd172-15-10236Mahfuzur Rahman10mahfuzur15-10236@diu.edu.bd172-15-9583Md. Hamidur Rahman11hamidur15-9583@diu.edu.bd172-15-9593Md. Moshfequr Rahman Maruf12moshfequr15-9593@diu.edu.bd172-15-9597Md. Riajul Islam13riajul15-9597@diu.edu.bd172-15-9601Md. Istiaq Haider14istiaq15-9601@diu.edu.bd172-15-9608Rifat Bin Raihan15rifat15-9608@diu.edu.bd172-15-9638Md. Abdullah Al-Baky16abdullah15-9638@diu.edu.bd172-15-9661Puja Das17puja15-9661@diu.edu.bd172-15-9672Md Moinul Hasan18md15-9672@diu.edu.bd172-15-9716Nusrat Zahan19nusrat15-9716@diu.edu.bd172-15-9738Samiul Islam20samiul15-9738@diu.edu.bd172-15-9750Md. Rakibul Hossain21rakibul15-9750@diu.edu.bd172-15-9751A. K. M Touhidur Rahman22touhidur15-9751@diu.edu.bd172-15-9758Tamjidul Islam Choudhury23tamjidul15-9758@diu.edu.bd172-15-9768Md. Hasan Moon24hasan15-9768@diu.edu.bd172-15-9790Fian Rana Shan25fian15-9790@diu.edu.bd172-15-9813Jannatul Ferdous26jannatul15-9813@diu.edu.bd172-15-9824Md. Arifuzzaman27arifuzzaman15-9824@diu.edu.bd172-15-9827Jannatul Naim Sopan28jannatul15-9827@diu.edu.bd172-15-9854Ujjoiny Sarkar29ujjoiny15-9854@diu.edu.bd172-15-9866Md. Atiqur Rahman30atiqur15-9866@diu.edu.bd172-15-9878Md. Radoanul Haque31radoanul15-9878@diu.edu.bd172-15-9913Sadia Siddika32sadia15-9913@diu.edu.bdPage 1 of2\n"
     ]
    }
   ],
   "source": [
    "# importing required modules \n",
    "import PyPDF2 \n",
    "base_path =r'/Users/antique/Desktop/'\n",
    "# creating a pdf file object \n",
    "pdfFileObj = open((base_path+'w04.pdf'), 'rb') \n",
    "\n",
    "# creating a pdf reader object \n",
    "pdfReader = PyPDF2.PdfFileReader(pdfFileObj) \n",
    "\n",
    "# printing number of pages in pdf file \n",
    "print(pdfReader.numPages) \n",
    "\n",
    "# creating a page object \n",
    "pageObj = pdfReader.getPage(0) \n",
    "\n",
    "# extracting text from page \n",
    "print(pageObj.extractText()) \n",
    "\n",
    "# closing the pdf file object \n",
    "pdfFileObj.close() \n"
   ]
  },
  {
   "cell_type": "code",
   "execution_count": null,
   "metadata": {},
   "outputs": [],
   "source": []
  }
 ],
 "metadata": {
  "kernelspec": {
   "display_name": "Python [conda env:anaconda]",
   "language": "python",
   "name": "conda-env-anaconda-py"
  },
  "language_info": {
   "codemirror_mode": {
    "name": "ipython",
    "version": 3
   },
   "file_extension": ".py",
   "mimetype": "text/x-python",
   "name": "python",
   "nbconvert_exporter": "python",
   "pygments_lexer": "ipython3",
   "version": "3.5.5"
  }
 },
 "nbformat": 4,
 "nbformat_minor": 2
}
