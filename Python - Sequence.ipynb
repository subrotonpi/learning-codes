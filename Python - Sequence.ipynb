{
 "cells": [
  {
   "cell_type": "code",
   "execution_count": 39,
   "metadata": {},
   "outputs": [
    {
     "name": "stdout",
     "output_type": "stream",
     "text": [
      "elephant, mayabon\n"
     ]
    }
   ],
   "source": [
    "#tupple\n",
    "zoo = ('python', 'elephant', 'penguin')\n",
    "nez=(zoo, 'mayabon')\n",
    "print(\"{}, {}\".format(nez[0][1], nez[1]))"
   ]
  },
  {
   "cell_type": "code",
   "execution_count": 40,
   "metadata": {},
   "outputs": [
    {
     "data": {
      "text/plain": [
       "12"
      ]
     },
     "execution_count": 40,
     "metadata": {},
     "output_type": "execute_result"
    }
   ],
   "source": [
    "#dictionary\n",
    "dic={\n",
    "    'a':1,\n",
    "    'b':12\n",
    "}\n",
    "\n",
    "dic['a']\n",
    "del dic['a']\n",
    "dic['b']"
   ]
  },
  {
   "cell_type": "code",
   "execution_count": 41,
   "metadata": {},
   "outputs": [
    {
     "name": "stdout",
     "output_type": "stream",
     "text": [
      "False\n",
      "US is in BRI: True\n"
     ]
    }
   ],
   "source": [
    "#set\n",
    "bri = set(['brazil', 'russia', 'india'])\n",
    "\n",
    "print ('us' in bri)\n",
    "bri.add('us')\n",
    "print(\"US is in BRI: {}\".format('us' in bri))"
   ]
  },
  {
   "cell_type": "code",
   "execution_count": null,
   "metadata": {
    "collapsed": true
   },
   "outputs": [],
   "source": []
  }
 ],
 "metadata": {
  "anaconda-cloud": {},
  "kernelspec": {
   "display_name": "Python [conda root]",
   "language": "python",
   "name": "conda-root-py"
  },
  "language_info": {
   "codemirror_mode": {
    "name": "ipython",
    "version": 3
   },
   "file_extension": ".py",
   "mimetype": "text/x-python",
   "name": "python",
   "nbconvert_exporter": "python",
   "pygments_lexer": "ipython3",
   "version": "3.5.5"
  }
 },
 "nbformat": 4,
 "nbformat_minor": 2
}
