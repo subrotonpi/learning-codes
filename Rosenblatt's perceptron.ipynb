{
 "cells": [
  {
   "cell_type": "code",
   "execution_count": 35,
   "metadata": {},
   "outputs": [],
   "source": [
    "import numpy as np"
   ]
  },
  {
   "cell_type": "markdown",
   "metadata": {},
   "source": [
    "##  Playing with Numpy Arrays"
   ]
  },
  {
   "cell_type": "code",
   "execution_count": 36,
   "metadata": {},
   "outputs": [
    {
     "name": "stdout",
     "output_type": "stream",
     "text": [
      "matrix.shape(3, 2)\n",
      "weights: [[0.]\n",
      " [0.]\n",
      " [0.]]\n",
      "weights.shape(3, 1)\n",
      "weights[1:]\n",
      "[[0.]\n",
      " [0.]]\n",
      "weights[0]\n",
      "[0.]\n"
     ]
    }
   ],
   "source": [
    "matrix = np.array([[1,2],[3,4],[5,4]])\n",
    "print('matrix.shape'+str(matrix.shape))\n",
    "weights = np.zeros(((1+ matrix.shape[1]),1))\n",
    "print('weights: '+str(weights))\n",
    "print('weights.shape'+str(weights.shape))\n",
    "print('weights[1:]\\n'+str(weights[1:]))\n",
    "print('weights[0]\\n'+str(weights[0]))"
   ]
  },
  {
   "cell_type": "markdown",
   "metadata": {},
   "source": [
    "## About Feature Matrix"
   ]
  },
  {
   "cell_type": "markdown",
   "metadata": {},
   "source": [
    "Please note that, we haven't add an additional column to our feature matrix instead we calculated weight[0] or theta0 (read theta not) separately (which is bias, b or intercept term, c in eqn of form y = mx +c). So, when we do matrix multplication of X and W[1:] we simply keep bias W[0] separate. \n",
    "In many ML literature you will find y = w0x0 + w1x1+...+ wnxn, we simly don't have x0, which is set as 1 by default in many notes but not here.\n",
    "\n",
    "Don't worry, in short, we calculated, y = (w1x1+w2x2+...+wnxn) + w0\n",
    "\n",
    "Here, X is m x n matrix, m is number of sample, n is number of features.\n",
    "W is matrix\n",
    "\"\"\""
   ]
  },
  {
   "cell_type": "code",
   "execution_count": 37,
   "metadata": {},
   "outputs": [
    {
     "data": {
      "text/html": [
       "<img src=\"http://ataspinar.com/wp-content/uploads/2016/11/perceptron_schematic_overview.png\"/>"
      ],
      "text/plain": [
       "<IPython.core.display.Image object>"
      ]
     },
     "execution_count": 37,
     "metadata": {},
     "output_type": "execute_result"
    }
   ],
   "source": [
    "#Just to show how perceptron looks like\n",
    "from IPython.display import Image\n",
    "i = Image(url='http://ataspinar.com/wp-content/uploads/2016/11/perceptron_schematic_overview.png')\n",
    "i"
   ]
  },
  {
   "cell_type": "markdown",
   "metadata": {},
   "source": [
    "## Rosenblatt's Perceptron \n",
    "\n",
    "If you find any error, let me know. I will update!\n",
    "\n",
    "A very good article on Medium:\n",
    "https://medium.com/@purnasaigudikandula/intro-to-deep-learning-with-pytorch-part-1-53e111610575\n",
    "\n",
    "Can you find any differences ? Answer when you can understand this code completely!"
   ]
  },
  {
   "cell_type": "code",
   "execution_count": 38,
   "metadata": {},
   "outputs": [],
   "source": [
    "#Perceptron class\n",
    "class Perceptron(object): \n",
    "    \n",
    "    #initializing point\n",
    "    def __init__(self, alpha = 0.01, n_iter = 10): \n",
    "        #alpha : is AKA eta, learning rate\n",
    "        self.alpha = alpha\n",
    "        #n_iter : number of iterations\n",
    "        self.n_iter = n_iter\n",
    "        \n",
    "    #fit training data, fit includes percpetron steps which uses all samples in every iterations \n",
    "    def fit(self, X, y):\n",
    "        #X :  is a matrix of dimension number_of_samples x number_of_features\n",
    "        #y : is a column vector or target value of shape number_of_samples x 1\n",
    "        \n",
    "        #initializing weight vectors with zeros\n",
    "        #w_ : weight vector\n",
    "        #X.shape[1] is the number of columns/features, we need same number of weights\n",
    "        self.w_ = np.zeros(1+X.shape[1]) \n",
    "        #list to append errors for all iterations\n",
    "        self.errors_ = []\n",
    "        \n",
    "        for _ in range(self.n_iter): #num of epochs\n",
    "            errors = 0 #number of errors per iteration\n",
    "            #----> \n",
    "            for xi, yi in zip(X,y): #perceptron steps\n",
    "                # yi is target, xi is the i-th row's features\n",
    "                y_hat = self.predict(xi)\n",
    "                err = yi - y_hat\n",
    "                update = err*self.alpha\n",
    "                self.w_[1:] += update*xi\n",
    "                self.w_[0] += update\n",
    "                errors += int(update != 0.0) #increase the number if any error occurs\n",
    "            #----->\n",
    "            #append num of errors\n",
    "            self.errors_.append(errors)\n",
    "        \n",
    "        return self #trained instance/object\n",
    "    \n",
    "    #step_function determines the prediction, also called heavyside function\n",
    "    def predict(self, X):\n",
    "        #y_hat = WX + b \n",
    "        #y_hat >= threshold  1 else -1\n",
    "        y_hat = self.net_input(X)\n",
    "        #return 1 if y_hat >= 0.0 else -1\n",
    "        return np.where(y_hat >= 0.0, 1, -1)\n",
    "    #linear combiner or input\n",
    "    def net_input(self, X):\n",
    "        # w_[1:] is all other weights and w_[0] is bias, b\n",
    "        # WX + b \n",
    "        return np.dot(X, self.w_[1:]) + self.w_[0] \n",
    "    "
   ]
  },
  {
   "cell_type": "markdown",
   "metadata": {},
   "source": [
    "## Training Perceptron, Iris dataset"
   ]
  },
  {
   "cell_type": "code",
   "execution_count": 39,
   "metadata": {},
   "outputs": [],
   "source": [
    "#read dataset\n",
    "import pandas as pd\n",
    "df = pd.read_csv('https://archive.ics.uci.edu/ml/machine-learning-databases/iris/iris.data', header=None)"
   ]
  },
  {
   "cell_type": "code",
   "execution_count": 40,
   "metadata": {},
   "outputs": [
    {
     "data": {
      "text/html": [
       "<div>\n",
       "<style scoped>\n",
       "    .dataframe tbody tr th:only-of-type {\n",
       "        vertical-align: middle;\n",
       "    }\n",
       "\n",
       "    .dataframe tbody tr th {\n",
       "        vertical-align: top;\n",
       "    }\n",
       "\n",
       "    .dataframe thead th {\n",
       "        text-align: right;\n",
       "    }\n",
       "</style>\n",
       "<table border=\"1\" class=\"dataframe\">\n",
       "  <thead>\n",
       "    <tr style=\"text-align: right;\">\n",
       "      <th></th>\n",
       "      <th>0</th>\n",
       "      <th>1</th>\n",
       "      <th>2</th>\n",
       "      <th>3</th>\n",
       "      <th>4</th>\n",
       "    </tr>\n",
       "  </thead>\n",
       "  <tbody>\n",
       "    <tr>\n",
       "      <th>0</th>\n",
       "      <td>5.1</td>\n",
       "      <td>3.5</td>\n",
       "      <td>1.4</td>\n",
       "      <td>0.2</td>\n",
       "      <td>Iris-setosa</td>\n",
       "    </tr>\n",
       "    <tr>\n",
       "      <th>1</th>\n",
       "      <td>4.9</td>\n",
       "      <td>3.0</td>\n",
       "      <td>1.4</td>\n",
       "      <td>0.2</td>\n",
       "      <td>Iris-setosa</td>\n",
       "    </tr>\n",
       "    <tr>\n",
       "      <th>2</th>\n",
       "      <td>4.7</td>\n",
       "      <td>3.2</td>\n",
       "      <td>1.3</td>\n",
       "      <td>0.2</td>\n",
       "      <td>Iris-setosa</td>\n",
       "    </tr>\n",
       "    <tr>\n",
       "      <th>3</th>\n",
       "      <td>4.6</td>\n",
       "      <td>3.1</td>\n",
       "      <td>1.5</td>\n",
       "      <td>0.2</td>\n",
       "      <td>Iris-setosa</td>\n",
       "    </tr>\n",
       "    <tr>\n",
       "      <th>4</th>\n",
       "      <td>5.0</td>\n",
       "      <td>3.6</td>\n",
       "      <td>1.4</td>\n",
       "      <td>0.2</td>\n",
       "      <td>Iris-setosa</td>\n",
       "    </tr>\n",
       "  </tbody>\n",
       "</table>\n",
       "</div>"
      ],
      "text/plain": [
       "     0    1    2    3            4\n",
       "0  5.1  3.5  1.4  0.2  Iris-setosa\n",
       "1  4.9  3.0  1.4  0.2  Iris-setosa\n",
       "2  4.7  3.2  1.3  0.2  Iris-setosa\n",
       "3  4.6  3.1  1.5  0.2  Iris-setosa\n",
       "4  5.0  3.6  1.4  0.2  Iris-setosa"
      ]
     },
     "execution_count": 40,
     "metadata": {},
     "output_type": "execute_result"
    }
   ],
   "source": [
    "#df.iloc[10:20, 0:] #this shows all samples from 10 to 19th row and all columns! Use iloc use indexing\n",
    "df.head() #this shows first five samples"
   ]
  },
  {
   "cell_type": "code",
   "execution_count": 41,
   "metadata": {},
   "outputs": [],
   "source": [
    "from matplotlib import pyplot as plt"
   ]
  },
  {
   "cell_type": "code",
   "execution_count": 42,
   "metadata": {},
   "outputs": [],
   "source": [
    "y = df.iloc[0:100, 4].values  #slicing first 100 sample's target/y values"
   ]
  },
  {
   "cell_type": "code",
   "execution_count": 43,
   "metadata": {},
   "outputs": [],
   "source": [
    "#Since we are dealing with binary classification problem using perceptron\n",
    "# we are going to assign 1 and -1 to column 4's values\n",
    "y = np.where(y == 'Iris-setosa', -1, 1)"
   ]
  },
  {
   "cell_type": "code",
   "execution_count": 44,
   "metadata": {},
   "outputs": [],
   "source": [
    "X = df.iloc[0:100, [0, 2]].values #100 samples, 2 feautes  for each sample "
   ]
  },
  {
   "cell_type": "code",
   "execution_count": 45,
   "metadata": {},
   "outputs": [
    {
     "data": {
      "image/png": "[encoded data removed]",
      "text/plain": [
       "<Figure size 432x288 with 1 Axes>"
      ]
     },
     "metadata": {},
     "output_type": "display_data"
    }
   ],
   "source": [
    "#ploting samples, 0-49 : setosa, 50-99 : versicolor\n",
    "plt.scatter(X[:50, 0], X[:50, 1], color='red', marker='o', label='setosa')\n",
    "plt.scatter(X[50:100, 0], X[50:100, 1], color='blue', marker='x', label='versicolor')\n",
    "plt.xlabel('sepal length[cm]') #first column of features\n",
    "plt.ylabel('petal length[cm]') #second column of featues\n",
    "plt.legend(loc='upper left')\n",
    "plt.show()"
   ]
  },
  {
   "cell_type": "code",
   "execution_count": 46,
   "metadata": {},
   "outputs": [
    {
     "data": {
      "text/plain": [
       "<__main__.Perceptron at 0x1188eae10>"
      ]
     },
     "execution_count": 46,
     "metadata": {},
     "output_type": "execute_result"
    }
   ],
   "source": [
    "#Training\n",
    "ppn = Perceptron(alpha = .1, n_iter = 10)\n",
    "ppn.fit(X,y)"
   ]
  },
  {
   "cell_type": "code",
   "execution_count": 47,
   "metadata": {},
   "outputs": [
    {
     "data": {
      "image/png": "[encoded data removed]",
      "text/plain": [
       "<Figure size 432x288 with 1 Axes>"
      ]
     },
     "metadata": {},
     "output_type": "display_data"
    }
   ],
   "source": [
    "#ploting epochs vs number of misclassifications\n",
    "plt.plot(range(1, len(ppn.errors_) + 1), ppn.errors_, marker='o')\n",
    "plt.xlabel('Epochs')\n",
    "plt.ylabel('Number of misclassifications')\n",
    "plt.show()"
   ]
  },
  {
   "cell_type": "markdown",
   "metadata": {},
   "source": [
    "Note that , our perceptron algorithm converged after 6 iterations!"
   ]
  },
  {
   "cell_type": "markdown",
   "metadata": {},
   "source": [
    "## Linear Boundary\n",
    "This part is relevant but if you don't understand all of it, just use it. This function allows us to draw the linear boundary once we trained our perctron.\n",
    "\n",
    "Resources: \n",
    "https://www.quora.com/Can-you-explain-to-me-what-the-meshgrid-function-in-Python-does-step-by-step\n",
    "\n",
    "https://plot.ly/numpy/meshgrid/\n",
    "\n"
   ]
  },
  {
   "cell_type": "code",
   "execution_count": 48,
   "metadata": {},
   "outputs": [],
   "source": [
    "from matplotlib.colors import ListedColormap\n",
    "def plot_decision_regions(X, y, classifier, resolution=0.02):\n",
    "    # setup marker generator and color map\n",
    "    markers = ('s', 'x', 'o', '^', 'v')\n",
    "    colors = ('red', 'blue', 'lightgreen', 'gray', 'cyan')    \n",
    "    cmap = ListedColormap(colors[:len(np.unique(y))])\n",
    "    # plot the decision surface\n",
    "    x1_min, x1_max = X[:, 0].min() - 1, X[:, 0].max() + 1\n",
    "    x2_min, x2_max = X[:, 1].min() - 1, X[:, 1].max() + 1\n",
    "    xx1, xx2 = np.meshgrid(np.arange(x1_min, x1_max, resolution),\n",
    "                         np.arange(x2_min, x2_max, resolution))\n",
    "    Z = classifier.predict(np.array([xx1.ravel(), xx2.ravel()]).T)\n",
    "    Z = Z.reshape(xx1.shape)\n",
    "    plt.contourf(xx1, xx2, Z, alpha=0.4, cmap=cmap)\n",
    "    plt.xlim(xx1.min(), xx1.max())\n",
    "    plt.ylim(xx2.min(), xx2.max())\n",
    "    # plot class samples\n",
    "    for idx, cl in enumerate(np.unique(y)):\n",
    "        plt.scatter(x=X[y == cl, 0], y=X[y == cl, 1], alpha=0.8, c=cmap(idx),marker=markers[idx], label=cl)"
   ]
  },
  {
   "cell_type": "code",
   "execution_count": 49,
   "metadata": {},
   "outputs": [
    {
     "data": {
      "image/png": "[encoded data removed]",
      "text/plain": [
       "<Figure size 432x288 with 1 Axes>"
      ]
     },
     "metadata": {},
     "output_type": "display_data"
    }
   ],
   "source": [
    "#now use the above function to draw Linear Boundary\n",
    "plot_decision_regions(X, y, classifier=ppn)\n",
    "plt.xlabel('sepal length [cm]')\n",
    "plt.ylabel('petal length [cm]')\n",
    "plt.legend(loc='upper left')\n",
    "plt.show()"
   ]
  },
  {
   "cell_type": "code",
   "execution_count": null,
   "metadata": {},
   "outputs": [],
   "source": []
  },
  {
   "cell_type": "code",
   "execution_count": null,
   "metadata": {},
   "outputs": [],
   "source": []
  },
  {
   "cell_type": "code",
   "execution_count": null,
   "metadata": {},
   "outputs": [],
   "source": []
  },
  {
   "cell_type": "code",
   "execution_count": null,
   "metadata": {},
   "outputs": [],
   "source": []
  },
  {
   "cell_type": "code",
   "execution_count": null,
   "metadata": {},
   "outputs": [],
   "source": []
  },
  {
   "cell_type": "code",
   "execution_count": null,
   "metadata": {},
   "outputs": [],
   "source": []
  }
 ],
 "metadata": {
  "kernelspec": {
   "display_name": "Python [default]",
   "language": "python",
   "name": "python3"
  },
  "language_info": {
   "codemirror_mode": {
    "name": "ipython",
    "version": 3
   },
   "file_extension": ".py",
   "mimetype": "text/x-python",
   "name": "python",
   "nbconvert_exporter": "python",
   "pygments_lexer": "ipython3",
   "version": "3.5.5"
  }
 },
 "nbformat": 4,
 "nbformat_minor": 2
}
